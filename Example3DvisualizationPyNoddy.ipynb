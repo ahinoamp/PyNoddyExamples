{
 "cells": [
  {
   "cell_type": "code",
   "execution_count": null,
   "metadata": {},
   "outputs": [],
   "source": [
    "#setup imports and PyNoddy changes\n",
    "import pynoddy\n",
    "import vtkplotter as vtkP\n",
    "import itkwidgets\n",
    "import k3d\n",
    "import os\n",
    "import PyNoddyBinderUtility as util\n",
    "util.importModulesAndSetup()\n",
    "import pynoddy.output\n",
    "import pynoddy.history"
   ]
  },
  {
   "cell_type": "markdown",
   "metadata": {},
   "source": [
    "# Plot a history file in 3D"
   ]
  },
  {
   "cell_type": "code",
   "execution_count": null,
   "metadata": {},
   "outputs": [],
   "source": [
    "# Determine the path to the noddy file \n",
    "#(comment the first line and uncomment the second to see the second model -\n",
    "#which takes around a minute to generate)\n",
    "modelfile = 'examples/strike_slip.his'\n",
    "modelfile = 'examples/Scenario3_MedResolution.his'\n",
    "\n",
    "# Determine the path to the noddy executable\n",
    "noddy_path = 'noddy.exe'\n",
    "folder = os.getcwd()\n",
    "noddy_path = folder+'/noddy.exe'\n",
    "    \n",
    "# Where you would like to place all your output files\n",
    "outputfolder = 'sandbox/'\n",
    "\n",
    "# choose what software to use for visualizing the model\n",
    "#you can also choose to change to itkwidgets, k3d, False (popup), or panel\n",
    "#you might need to install packages depending on what you choose\n",
    "vtkP.settings.embedWindow('k3d') \n",
    "\n",
    "# create a plot in vtkplotter\n",
    "plot = vtkP.Plotter(axes=1, bg='white', interactive=1)\n",
    "\n",
    "# call the plotting function\n",
    "points = pynoddy.output.CalculatePlotStructure(modelfile, plot, noddy_path, \n",
    "                                       outputfolder=outputfolder,\n",
    "                                       LithologyOpacity=0.2, outputOption=0)\n",
    "\n",
    "plot.show(viewup='z')"
   ]
  },
  {
   "cell_type": "markdown",
   "metadata": {},
   "source": [
    "# Create a history file from fault traces"
   ]
  },
  {
   "cell_type": "code",
   "execution_count": null,
   "metadata": {},
   "outputs": [],
   "source": [
    "import pandas as pd\n",
    "\n",
    "#Read a csv file with the vertices of the faults\n",
    "csvfile = 'examples/FaultDataCSV/Scenario1_Vertices.csv'\n",
    "CsvFaultData = pd.read_csv(csvfile).sort_values(['id'])\n",
    "\n",
    "#how much does the fault slip relative to the fault length\n",
    "SlipParam = 0.04\n",
    "\n",
    "#the xyz origin of the model you will be generating\n",
    "xy_origin=[317883,4379646, 1200-4000]\n",
    "\n",
    "#Get information about each parameter in Noddy format\n",
    "#The output from the function is a dictionary with lists of the fault parameters\n",
    "noddyFormattedFaultData =  pynoddy.history.setUpFaultRepresentation(CsvFaultData,\n",
    "                                                    xy_origin=xy_origin, \n",
    "                                                    SlipParam=SlipParam)\n",
    "\n",
    "#Create a dictionary with the stratigraphy information\n",
    "StratDict = {}\n",
    "StratDict['Heights'] = [2000, 2500, 3000, 3700]\n",
    "StratDict['Names'] = ['Intrusive', 'Felsic', 'Mafic','Sed'] \n",
    "StratDict['Density'] =  [2.65, 2.5, 2.4, 2.3] \n",
    "StratDict['MagSus'] = [0.0015, 0.0012, 0.0018, 0.001]\n",
    "\n",
    "#Now make the history file\n",
    "filename = 'sandbox/faultmodel.his'\n",
    "noddyFormattedFaultData =  pynoddy.history.createPyNoddyHistoryFile(noddyFormattedFaultData, StratDict, filename=filename)"
   ]
  },
  {
   "cell_type": "markdown",
   "metadata": {},
   "source": [
    "# Plot the generated history file in 3D"
   ]
  },
  {
   "cell_type": "code",
   "execution_count": null,
   "metadata": {},
   "outputs": [],
   "source": [
    "modelfile = 'sandbox/faultmodel.his'\n",
    "\n",
    "# Determine the path to the noddy executable\n",
    "noddy_path = 'noddy.exe'\n",
    "folder = os.getcwd()\n",
    "noddy_path = folder+'/noddy.exe'\n",
    "    \n",
    "# Where you would like to place all your output files\n",
    "outputfolder = 'sandbox/'\n",
    "\n",
    "# choose what software to use for visualizing the model\n",
    "#you can also choose to change to itkwidgets, k3d, False (popup), or panel\n",
    "#you might need to install packages depending on what you choose\n",
    "vtkP.settings.embedWindow('k3d') \n",
    "\n",
    "# create a plot in vtkplotter\n",
    "plot = vtkP.Plotter(axes=1, bg='white', interactive=1)\n",
    "\n",
    "# call the plotting function\n",
    "points = pynoddy.output.CalculatePlotStructure(modelfile, plot, noddy_path, \n",
    "                                       outputfolder=outputfolder,\n",
    "                                       LithologyOpacity=0.2, outputOption=0)\n",
    "\n",
    "plot.show(viewup='z')"
   ]
  }
 ],
 "metadata": {
  "kernelspec": {
   "display_name": "Python 3",
   "language": "python",
   "name": "python3"
  },
  "language_info": {
   "codemirror_mode": {
    "name": "ipython",
    "version": 3
   },
   "file_extension": ".py",
   "mimetype": "text/x-python",
   "name": "python",
   "nbconvert_exporter": "python",
   "pygments_lexer": "ipython3",
   "version": "3.7.4"
  }
 },
 "nbformat": 4,
 "nbformat_minor": 2
}
