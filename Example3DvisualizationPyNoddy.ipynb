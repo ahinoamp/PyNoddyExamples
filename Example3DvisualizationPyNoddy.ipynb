{
 "cells": [
  {
   "cell_type": "code",
   "execution_count": 6,
   "metadata": {},
   "outputs": [
    {
     "name": "stdout",
     "output_type": "stream",
     "text": [
      "Calculation time took 35.4498815536499 seconds\n",
      "Parsing time took 15.29456377029419 seconds\n",
      "The number of triangle elements (cells/faces) is: 241030\n",
      "Convert 2 VTK time took 3.5709500312805176 seconds\n"
     ]
    },
    {
     "data": {
      "application/vnd.jupyter.widget-view+json": {
       "model_id": "53cf14832849496399f92cd2ae30e889",
       "version_major": 2,
       "version_minor": 0
      },
      "text/plain": [
       "Plot(antialias=3, axes=['x', 'y', 'z'], axes_helper=1.0, background_color=16777215, camera=[13120.323825293786…"
      ]
     },
     "metadata": {},
     "output_type": "display_data"
    }
   ],
   "source": [
    "import pynoddy\n",
    "import pynoddy.output\n",
    "import vtkplotter as vtkP\n",
    "import itkwidgets\n",
    "import k3d\n",
    "\n",
    "# Determine the path to the noddy file \n",
    "#(comment the first line and uncomment the second to see the second model -\n",
    "#which takes around a minute to generate)\n",
    "modelfile = 'examples/strike_slip.his'\n",
    "modelfile = 'examples/Scenario3_MedResolution.his'\n",
    "\n",
    "# Determine the path to the noddy executable\n",
    "noddy_path = 'noddy.exe'\n",
    "\n",
    "# Where you would like to place all your output files\n",
    "outputfolder = 'sandbox/'\n",
    "\n",
    "# choose what software to use for visualizing the model\n",
    "#you can also choose to change to itkwidgets, k3d, False (popup), or panel\n",
    "#you might need to install packages depending on what you choose\n",
    "vtkP.settings.embedWindow('k3d') \n",
    "\n",
    "# create a plot in vtkplotter\n",
    "plot = vtkP.Plotter(axes=1, bg='white', interactive=1)\n",
    "\n",
    "# call the plotting function\n",
    "points = pynoddy.output.CalculatePlotStructure(modelfile, plot, noddy_path, \n",
    "                                       outputfolder=outputfolder,\n",
    "                                       LithologyOpacity=0.2, outputOption=0)\n",
    "\n",
    "plot.show(viewup='z')"
   ]
  },
  {
   "cell_type": "code",
   "execution_count": null,
   "metadata": {},
   "outputs": [],
   "source": []
  }
 ],
 "metadata": {
  "kernelspec": {
   "display_name": "Python 3",
   "language": "python",
   "name": "python3"
  },
  "language_info": {
   "codemirror_mode": {
    "name": "ipython",
    "version": 3
   },
   "file_extension": ".py",
   "mimetype": "text/x-python",
   "name": "python",
   "nbconvert_exporter": "python",
   "pygments_lexer": "ipython3",
   "version": "3.7.6"
  }
 },
 "nbformat": 4,
 "nbformat_minor": 2
}
